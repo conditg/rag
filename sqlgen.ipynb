{
 "cells": [
  {
   "cell_type": "code",
   "execution_count": 1,
   "metadata": {},
   "outputs": [],
   "source": [
    "\n",
    "import sqlite3\n",
    "import pandas as pd\n",
    "import numpy as np\n",
    "import openai\n",
    "from dotenv import load_dotenv, find_dotenv\n",
    "import os\n",
    "import ast\n",
    "load_dotenv(find_dotenv())\n",
    "\n",
    "openai.api_key = os.environ.get(\"OPENAI_API_KEY\")\n"
   ]
  },
  {
   "cell_type": "code",
   "execution_count": 2,
   "metadata": {},
   "outputs": [],
   "source": [
    "def call_gpt(messages, model=\"gpt-4\"):\n",
    "    \"\"\"Generates the intro script for the episode\"\"\"\n",
    "    response = openai.ChatCompletion.create(\n",
    "        model=model,\n",
    "        messages=messages,\n",
    "    )\n",
    "    r = response['choices'][0]['message']['content']\n",
    "    return r\n"
   ]
  },
  {
   "cell_type": "code",
   "execution_count": 18,
   "metadata": {},
   "outputs": [
    {
     "data": {
      "text/html": [
       "<div>\n",
       "<style scoped>\n",
       "    .dataframe tbody tr th:only-of-type {\n",
       "        vertical-align: middle;\n",
       "    }\n",
       "\n",
       "    .dataframe tbody tr th {\n",
       "        vertical-align: top;\n",
       "    }\n",
       "\n",
       "    .dataframe thead th {\n",
       "        text-align: right;\n",
       "    }\n",
       "</style>\n",
       "<table border=\"1\" class=\"dataframe\">\n",
       "  <thead>\n",
       "    <tr style=\"text-align: right;\">\n",
       "      <th></th>\n",
       "      <th>type</th>\n",
       "      <th>name</th>\n",
       "      <th>tbl_name</th>\n",
       "      <th>rootpage</th>\n",
       "      <th>sql</th>\n",
       "    </tr>\n",
       "  </thead>\n",
       "  <tbody>\n",
       "    <tr>\n",
       "      <th>0</th>\n",
       "      <td>table</td>\n",
       "      <td>albums</td>\n",
       "      <td>albums</td>\n",
       "      <td>2</td>\n",
       "      <td>CREATE TABLE \"albums\"\\r\\n(\\r\\n    [AlbumId] IN...</td>\n",
       "    </tr>\n",
       "    <tr>\n",
       "      <th>1</th>\n",
       "      <td>table</td>\n",
       "      <td>sqlite_sequence</td>\n",
       "      <td>sqlite_sequence</td>\n",
       "      <td>3</td>\n",
       "      <td>CREATE TABLE sqlite_sequence(name,seq)</td>\n",
       "    </tr>\n",
       "    <tr>\n",
       "      <th>2</th>\n",
       "      <td>table</td>\n",
       "      <td>artists</td>\n",
       "      <td>artists</td>\n",
       "      <td>4</td>\n",
       "      <td>CREATE TABLE \"artists\"\\r\\n(\\r\\n    [ArtistId] ...</td>\n",
       "    </tr>\n",
       "    <tr>\n",
       "      <th>3</th>\n",
       "      <td>table</td>\n",
       "      <td>customers</td>\n",
       "      <td>customers</td>\n",
       "      <td>5</td>\n",
       "      <td>CREATE TABLE \"customers\"\\r\\n(\\r\\n    [Customer...</td>\n",
       "    </tr>\n",
       "    <tr>\n",
       "      <th>4</th>\n",
       "      <td>table</td>\n",
       "      <td>employees</td>\n",
       "      <td>employees</td>\n",
       "      <td>8</td>\n",
       "      <td>CREATE TABLE \"employees\"\\r\\n(\\r\\n    [Employee...</td>\n",
       "    </tr>\n",
       "    <tr>\n",
       "      <th>5</th>\n",
       "      <td>table</td>\n",
       "      <td>genres</td>\n",
       "      <td>genres</td>\n",
       "      <td>10</td>\n",
       "      <td>CREATE TABLE \"genres\"\\r\\n(\\r\\n    [GenreId] IN...</td>\n",
       "    </tr>\n",
       "    <tr>\n",
       "      <th>6</th>\n",
       "      <td>table</td>\n",
       "      <td>invoices</td>\n",
       "      <td>invoices</td>\n",
       "      <td>11</td>\n",
       "      <td>CREATE TABLE \"invoices\"\\r\\n(\\r\\n    [InvoiceId...</td>\n",
       "    </tr>\n",
       "    <tr>\n",
       "      <th>7</th>\n",
       "      <td>table</td>\n",
       "      <td>invoice_items</td>\n",
       "      <td>invoice_items</td>\n",
       "      <td>13</td>\n",
       "      <td>CREATE TABLE \"invoice_items\"\\r\\n(\\r\\n    [Invo...</td>\n",
       "    </tr>\n",
       "    <tr>\n",
       "      <th>8</th>\n",
       "      <td>table</td>\n",
       "      <td>media_types</td>\n",
       "      <td>media_types</td>\n",
       "      <td>15</td>\n",
       "      <td>CREATE TABLE \"media_types\"\\r\\n(\\r\\n    [MediaT...</td>\n",
       "    </tr>\n",
       "    <tr>\n",
       "      <th>9</th>\n",
       "      <td>table</td>\n",
       "      <td>playlists</td>\n",
       "      <td>playlists</td>\n",
       "      <td>16</td>\n",
       "      <td>CREATE TABLE \"playlists\"\\r\\n(\\r\\n    [Playlist...</td>\n",
       "    </tr>\n",
       "    <tr>\n",
       "      <th>10</th>\n",
       "      <td>table</td>\n",
       "      <td>playlist_track</td>\n",
       "      <td>playlist_track</td>\n",
       "      <td>17</td>\n",
       "      <td>CREATE TABLE \"playlist_track\"\\r\\n(\\r\\n    [Pla...</td>\n",
       "    </tr>\n",
       "    <tr>\n",
       "      <th>11</th>\n",
       "      <td>table</td>\n",
       "      <td>tracks</td>\n",
       "      <td>tracks</td>\n",
       "      <td>20</td>\n",
       "      <td>CREATE TABLE \"tracks\"\\r\\n(\\r\\n    [TrackId] IN...</td>\n",
       "    </tr>\n",
       "    <tr>\n",
       "      <th>12</th>\n",
       "      <td>table</td>\n",
       "      <td>sqlite_stat1</td>\n",
       "      <td>sqlite_stat1</td>\n",
       "      <td>864</td>\n",
       "      <td>CREATE TABLE sqlite_stat1(tbl,idx,stat)</td>\n",
       "    </tr>\n",
       "  </tbody>\n",
       "</table>\n",
       "</div>"
      ],
      "text/plain": [
       "     type             name         tbl_name  rootpage  \\\n",
       "0   table           albums           albums         2   \n",
       "1   table  sqlite_sequence  sqlite_sequence         3   \n",
       "2   table          artists          artists         4   \n",
       "3   table        customers        customers         5   \n",
       "4   table        employees        employees         8   \n",
       "5   table           genres           genres        10   \n",
       "6   table         invoices         invoices        11   \n",
       "7   table    invoice_items    invoice_items        13   \n",
       "8   table      media_types      media_types        15   \n",
       "9   table        playlists        playlists        16   \n",
       "10  table   playlist_track   playlist_track        17   \n",
       "11  table           tracks           tracks        20   \n",
       "12  table     sqlite_stat1     sqlite_stat1       864   \n",
       "\n",
       "                                                  sql  \n",
       "0   CREATE TABLE \"albums\"\\r\\n(\\r\\n    [AlbumId] IN...  \n",
       "1              CREATE TABLE sqlite_sequence(name,seq)  \n",
       "2   CREATE TABLE \"artists\"\\r\\n(\\r\\n    [ArtistId] ...  \n",
       "3   CREATE TABLE \"customers\"\\r\\n(\\r\\n    [Customer...  \n",
       "4   CREATE TABLE \"employees\"\\r\\n(\\r\\n    [Employee...  \n",
       "5   CREATE TABLE \"genres\"\\r\\n(\\r\\n    [GenreId] IN...  \n",
       "6   CREATE TABLE \"invoices\"\\r\\n(\\r\\n    [InvoiceId...  \n",
       "7   CREATE TABLE \"invoice_items\"\\r\\n(\\r\\n    [Invo...  \n",
       "8   CREATE TABLE \"media_types\"\\r\\n(\\r\\n    [MediaT...  \n",
       "9   CREATE TABLE \"playlists\"\\r\\n(\\r\\n    [Playlist...  \n",
       "10  CREATE TABLE \"playlist_track\"\\r\\n(\\r\\n    [Pla...  \n",
       "11  CREATE TABLE \"tracks\"\\r\\n(\\r\\n    [TrackId] IN...  \n",
       "12            CREATE TABLE sqlite_stat1(tbl,idx,stat)  "
      ]
     },
     "execution_count": 18,
     "metadata": {},
     "output_type": "execute_result"
    }
   ],
   "source": [
    "#load the sqllite database\n",
    "conn = sqlite3.connect('chinook.db')\n",
    "\n",
    "#view the tables in the database\n",
    "tables = pd.read_sql(\"\"\"SELECT *\n",
    "                        FROM sqlite_master\n",
    "                        WHERE type='table';\"\"\", conn)\n",
    "tables"
   ]
  },
  {
   "cell_type": "code",
   "execution_count": 19,
   "metadata": {},
   "outputs": [],
   "source": [
    "#manually created data dictionary\n",
    "table_dict = {'albums': '1 row for each album and its title, FK to artists',\n",
    " 'artists': '1 row for each artist and their name',\n",
    " 'customers': '1 row for each customers and their demographic information',\n",
    " 'employees': '1 row for each employee and their demographic and organizational information',\n",
    " 'genres': '1 row for each genre and its name',\n",
    " 'invoices': '1 row for each invoice and its associated customer and billing information',\n",
    " 'invoice_items': '1 row for each invoice line item, containing the associated invoice, track and quantity of tracks purchased',\n",
    " 'media_types': '1 row for each media type and its name',\n",
    " 'playlists': '1 row for each playlist and its name',\n",
    " 'playlist_track': 'join table between playlists and tracks',\n",
    " 'tracks': '1 row for each track and its album, media type, genre, etc.',\n",
    "}"
   ]
  },
  {
   "cell_type": "code",
   "execution_count": 20,
   "metadata": {},
   "outputs": [
    {
     "name": "stdout",
     "output_type": "stream",
     "text": [
      "`albums` : 1 row for each album and its title, FK to artists\n",
      "`artists` : 1 row for each artist and their name\n",
      "`customers` : 1 row for each customers and their demographic information\n",
      "`employees` : 1 row for each employee and their demographic and organizational information\n",
      "`genres` : 1 row for each genre and its name\n",
      "`invoices` : 1 row for each invoice and its associated customer and billing information\n",
      "`invoice_items` : 1 row for each invoice line item, containing the associated invoice, track and quantity of tracks purchased\n",
      "`media_types` : 1 row for each media type and its name\n",
      "`playlists` : 1 row for each playlist and its name\n",
      "`playlist_track` : join table between playlists and tracks\n",
      "`tracks` : 1 row for each track and its album, media type, genre, etc.\n",
      "\n"
     ]
    }
   ],
   "source": [
    "# formatting for prompt\n",
    "table_string = \"\".join([f\"`{k}` : {v}\\n\" for k, v in table_dict.items()])\n",
    "print(table_string)"
   ]
  },
  {
   "cell_type": "code",
   "execution_count": 21,
   "metadata": {},
   "outputs": [],
   "source": [
    "#create a dict where the key is the table name and the value is a concise table schema\n",
    "#loop through the tables, and query the sqllite DB to get the schema, then format it concisely:\n",
    "\n",
    "table_schema_dict = {}\n",
    "for table in tables['name']:\n",
    "    table_schema = pd.read_sql(f\"PRAGMA table_info({table})\", conn)\n",
    "    table_schema_dict[table] = \"\".join([f\"{row['name']} : {row['type']}\\n\" for _, row in table_schema.iterrows()])"
   ]
  },
  {
   "cell_type": "code",
   "execution_count": 24,
   "metadata": {},
   "outputs": [
    {
     "name": "stdout",
     "output_type": "stream",
     "text": [
      "CustomerId : INTEGER\n",
      "FirstName : NVARCHAR(40)\n",
      "LastName : NVARCHAR(20)\n",
      "Company : NVARCHAR(80)\n",
      "Address : NVARCHAR(70)\n",
      "City : NVARCHAR(40)\n",
      "State : NVARCHAR(40)\n",
      "Country : NVARCHAR(40)\n",
      "PostalCode : NVARCHAR(10)\n",
      "Phone : NVARCHAR(24)\n",
      "Fax : NVARCHAR(24)\n",
      "Email : NVARCHAR(60)\n",
      "SupportRepId : INTEGER\n",
      "\n"
     ]
    }
   ],
   "source": [
    "#view an example\n",
    "print(table_schema_dict['customers'])"
   ]
  },
  {
   "cell_type": "code",
   "execution_count": 25,
   "metadata": {},
   "outputs": [],
   "source": [
    "#this prompt is used to pick which tables are relevant to the question\n",
    "first_prompt = \"\"\"\n",
    "Given the below question, which of the following tables would you need to query to answer the question? Return your answer as a valid Python list of table names. If the question is not answerable with the given tables, return an empty list.\n",
    "\n",
    "Question: {question}\n",
    "\n",
    "Tables:\n",
    "{table_string}\n",
    "\"\"\""
   ]
  },
  {
   "cell_type": "code",
   "execution_count": 26,
   "metadata": {},
   "outputs": [],
   "source": [
    "question = \"What is the most popular genre of music in the USA?\"\n",
    "\n",
    "messages = [\n",
    "    {\"role\": \"system\", \"content\": \"You are an expert Database Admin, and you are helping a client with a question about their database.\"},\n",
    "    {\"role\": \"user\", \"content\": first_prompt.format(question=question, table_string=table_string)},\n",
    "]\n",
    "\n",
    "str_tables = call_gpt(messages)"
   ]
  },
  {
   "cell_type": "code",
   "execution_count": 27,
   "metadata": {},
   "outputs": [
    {
     "data": {
      "text/plain": [
       "\"['genres', 'tracks', 'invoice_items', 'invoices', 'customers']\""
      ]
     },
     "execution_count": 27,
     "metadata": {},
     "output_type": "execute_result"
    }
   ],
   "source": [
    "str_tables"
   ]
  },
  {
   "cell_type": "code",
   "execution_count": 29,
   "metadata": {},
   "outputs": [
    {
     "name": "stdout",
     "output_type": "stream",
     "text": [
      "['genres', 'tracks', 'invoice_items', 'invoices', 'customers']\n"
     ]
    }
   ],
   "source": [
    "#safely evaluate the string as a python object\n",
    "try:\n",
    "    query_tables = ast.literal_eval(str_tables)\n",
    "    assert type(query_tables) == list\n",
    "    print(query_tables)\n",
    "except:\n",
    "    print(f\"Model returned invalid python object, try again: {str_tables}\")"
   ]
  },
  {
   "cell_type": "code",
   "execution_count": 35,
   "metadata": {},
   "outputs": [],
   "source": [
    "#next, we need to generate the SQL query to answer the question given the specific columns in the preselected tables\n",
    "\n",
    "query_prompt = \"\"\"\n",
    "Given the below question, and the columns in each of the tables you selected, write a SQL query to answer the question. \n",
    "Return your answer as a valid SQL query for SQLite. \n",
    "Do not include any formatting or other characters, just the SQL Code ending in a semicolon.\n",
    "\n",
    "Question: {question}\n",
    "\n",
    "Tables and their columns:\n",
    "\n",
    "{table_schema}\n",
    "\n",
    "SQL Query:\n",
    "\"\"\""
   ]
  },
  {
   "cell_type": "code",
   "execution_count": 36,
   "metadata": {},
   "outputs": [
    {
     "name": "stdout",
     "output_type": "stream",
     "text": [
      "TABLE: genres:\n",
      "GenreId : INTEGER\n",
      "Name : NVARCHAR(120)\n",
      "\n",
      "TABLE: tracks:\n",
      "TrackId : INTEGER\n",
      "Name : NVARCHAR(200)\n",
      "AlbumId : INTEGER\n",
      "MediaTypeId : INTEGER\n",
      "GenreId : INTEGER\n",
      "Composer : NVARCHAR(220)\n",
      "Milliseconds : INTEGER\n",
      "Bytes : INTEGER\n",
      "UnitPrice : NUMERIC(10,2)\n",
      "\n",
      "TABLE: invoice_items:\n",
      "InvoiceLineId : INTEGER\n",
      "InvoiceId : INTEGER\n",
      "TrackId : INTEGER\n",
      "UnitPrice : NUMERIC(10,2)\n",
      "Quantity : INTEGER\n",
      "\n",
      "TABLE: invoices:\n",
      "InvoiceId : INTEGER\n",
      "CustomerId : INTEGER\n",
      "InvoiceDate : DATETIME\n",
      "BillingAddress : NVARCHAR(70)\n",
      "BillingCity : NVARCHAR(40)\n",
      "BillingState : NVARCHAR(40)\n",
      "BillingCountry : NVARCHAR(40)\n",
      "BillingPostalCode : NVARCHAR(10)\n",
      "Total : NUMERIC(10,2)\n",
      "\n",
      "TABLE: customers:\n",
      "CustomerId : INTEGER\n",
      "FirstName : NVARCHAR(40)\n",
      "LastName : NVARCHAR(20)\n",
      "Company : NVARCHAR(80)\n",
      "Address : NVARCHAR(70)\n",
      "City : NVARCHAR(40)\n",
      "State : NVARCHAR(40)\n",
      "Country : NVARCHAR(40)\n",
      "PostalCode : NVARCHAR(10)\n",
      "Phone : NVARCHAR(24)\n",
      "Fax : NVARCHAR(24)\n",
      "Email : NVARCHAR(60)\n",
      "SupportRepId : INTEGER\n",
      "\n",
      "\n"
     ]
    }
   ],
   "source": [
    "table_schema = ''\n",
    "for table in query_tables:\n",
    "    table_schema += f\"TABLE: {table}:\\n{table_schema_dict[table]}\\n\"\n",
    "print(table_schema)"
   ]
  },
  {
   "cell_type": "code",
   "execution_count": 37,
   "metadata": {},
   "outputs": [
    {
     "name": "stdout",
     "output_type": "stream",
     "text": [
      "SELECT g.Name AS Genre, SUM(ii.Quantity) AS Total_Sold\n",
      "FROM genres g\n",
      "JOIN tracks t ON g.GenreId = t.GenreId\n",
      "JOIN invoice_items ii ON t.TrackId = ii.TrackId\n",
      "JOIN invoices i ON ii.InvoiceId = i.InvoiceId\n",
      "JOIN customers c ON i.CustomerId = c.CustomerId\n",
      "WHERE c.Country = 'USA'\n",
      "GROUP BY g.Name\n",
      "ORDER BY Total_Sold DESC\n",
      "LIMIT 1;\n"
     ]
    }
   ],
   "source": [
    "messages = [\n",
    "    {'role': 'system', 'content': 'You are an expert Data Analyst, and you are helping a client write a SQL query to answer a question about their database.'},\n",
    "    {'role': 'user', 'content': query_prompt.format(question=question, table_schema=table_schema)}\n",
    "]\n",
    "\n",
    "str_query = call_gpt(messages)\n",
    "print(str_query)"
   ]
  },
  {
   "cell_type": "code",
   "execution_count": 40,
   "metadata": {},
   "outputs": [
    {
     "name": "stdout",
     "output_type": "stream",
     "text": [
      "  Genre  Total_Sold\n",
      "0  Rock         157\n"
     ]
    }
   ],
   "source": [
    "# run the query: \n",
    "try: \n",
    "    tabular_answer = pd.read_sql(str_query, conn)\n",
    "    print(tabular_answer)\n",
    "except:\n",
    "    print(f\"Model returned invalid SQL query, try again: {str_query}\")"
   ]
  },
  {
   "cell_type": "code",
   "execution_count": 41,
   "metadata": {},
   "outputs": [],
   "source": [
    "final_prompt = \"\"\"\n",
    "Given the below question, and the tabular data returned by your SQL query, write a short answer to the question, including an explanation of the query used to generate the answer.\n",
    "\n",
    "Question: {question}\n",
    "\n",
    "SQL Query: {str_query}\n",
    "\n",
    "Answer: {tabular_answer}\n",
    "\"\"\""
   ]
  },
  {
   "cell_type": "code",
   "execution_count": 42,
   "metadata": {},
   "outputs": [
    {
     "name": "stdout",
     "output_type": "stream",
     "text": [
      "The most popular genre of music in the USA, according to the database, is Rock. The SQL query used to determine this joins five different tables: genres, tracks, invoice_items, invoices, and customers. The query first links each genre of music to its tracks, which are then linked to items on customer invoices. It filters by customers from the USA. Each sold item quantity is summed up by genre and then sorted in descending order. The top result, with a total sold of 157, is Rock.\n"
     ]
    }
   ],
   "source": [
    "messages = [\n",
    "    {'role': 'system', 'content': 'You are an expert Data Analyst, and you are helping a client write a short answer to a question about their database.'},\n",
    "    {'role': 'user', 'content': final_prompt.format(question=question, str_query=str_query, tabular_answer=tabular_answer)}\n",
    "]\n",
    "\n",
    "str_answer = call_gpt(messages)\n",
    "print(str_answer)"
   ]
  },
  {
   "cell_type": "markdown",
   "metadata": {},
   "source": [
    "# Other Future Considerations:\n",
    " - What if the question isn't answerable by the data? Table query will return an empty string - then it should prompt the user for clarification, or let them know we don't have data to answer their question.\n",
    " - What if the question isn't specific enough (ex: the above sums quantity, but that's not the only valid measure of popularity)? LLM can list out reasonable possibilities and prompt the user to choose.\n",
    " - Program should suggest alternative spellings (USA vs. U.S.A in the above query) - a solution here would depend on the specifics of the problem and dataset"
   ]
  },
  {
   "cell_type": "code",
   "execution_count": null,
   "metadata": {},
   "outputs": [],
   "source": []
  }
 ],
 "metadata": {
  "kernelspec": {
   "display_name": "dssw",
   "language": "python",
   "name": "python3"
  },
  "language_info": {
   "codemirror_mode": {
    "name": "ipython",
    "version": 3
   },
   "file_extension": ".py",
   "mimetype": "text/x-python",
   "name": "python",
   "nbconvert_exporter": "python",
   "pygments_lexer": "ipython3",
   "version": "3.10.8"
  },
  "orig_nbformat": 4
 },
 "nbformat": 4,
 "nbformat_minor": 2
}
